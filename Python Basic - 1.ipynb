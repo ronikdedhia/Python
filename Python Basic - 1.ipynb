{
 "cells": [
  {
   "cell_type": "markdown",
   "metadata": {},
   "source": [
    "# Python Basics - 1"
   ]
  },
  {
   "cell_type": "markdown",
   "metadata": {},
   "source": [
    "Features of Python - <br/>\n",
    "Supports multiple programming paradigm<br/>\n",
    "◦ Functional, Structural, OOPs, etc.<br/>\n",
    "Dynamic typing<br/>\n",
    "◦ Runtime type safety checks, compensates for huge compilation time<br/>\n",
    "Reference counts<br/>\n",
    "◦ Deallocates objects which are not used for long<br/>\n",
    "Late binding<br/>\n",
    "◦ Methods are looked up by name during runtime<br/>\n",
    "Cross-platform (Windows, Linux, Mac)<br/>\n",
    "Developed under Open Source Initiative license<br/>"
   ]
  },
  {
   "cell_type": "markdown",
   "metadata": {},
   "source": [
    "### Getting Familiar with Basics"
   ]
  },
  {
   "cell_type": "code",
   "execution_count": 1,
   "metadata": {},
   "outputs": [
    {
     "name": "stdout",
     "output_type": "stream",
     "text": [
      "Hello, Python!\n"
     ]
    }
   ],
   "source": [
    "print(\"Hello, Python!\")"
   ]
  },
  {
   "cell_type": "code",
   "execution_count": 2,
   "metadata": {},
   "outputs": [
    {
     "name": "stdout",
     "output_type": "stream",
     "text": [
      "\n",
      "Welcome to Python 3.8's help utility!\n",
      "\n",
      "If this is your first time using Python, you should definitely check out\n",
      "the tutorial on the Internet at https://docs.python.org/3.8/tutorial/.\n",
      "\n",
      "Enter the name of any module, keyword, or topic to get help on writing\n",
      "Python programs and using Python modules.  To quit this help utility and\n",
      "return to the interpreter, just type \"quit\".\n",
      "\n",
      "To get a list of available modules, keywords, symbols, or topics, type\n",
      "\"modules\", \"keywords\", \"symbols\", or \"topics\".  Each module also comes\n",
      "with a one-line summary of what it does; to list the modules whose name\n",
      "or summary contain a given string such as \"spam\", type \"modules spam\".\n",
      "\n",
      "help> keywords\n",
      "\n",
      "Here is a list of the Python keywords.  Enter any keyword to get more help.\n",
      "\n",
      "False               class               from                or\n",
      "None                continue            global              pass\n",
      "True                def                 if                  raise\n",
      "and                 del                 import              return\n",
      "as                  elif                in                  try\n",
      "assert              else                is                  while\n",
      "async               except              lambda              with\n",
      "await               finally             nonlocal            yield\n",
      "break               for                 not                 \n",
      "\n",
      "help> q\n",
      "\n",
      "You are now leaving help and returning to the Python interpreter.\n",
      "If you want to ask for help on a particular object directly from the\n",
      "interpreter, you can type \"help(object)\".  Executing \"help('string')\"\n",
      "has the same effect as typing a particular string at the help> prompt.\n"
     ]
    }
   ],
   "source": [
    "help()"
   ]
  },
  {
   "cell_type": "markdown",
   "metadata": {},
   "source": [
    "#### Python provides no braces to indicate blocks of code for class and function definitions or flow control. Blocks of code are denoted by line indentation, which is rigidly enforced.\n",
    "Note: All statements within the block must be indented the same amount"
   ]
  },
  {
   "cell_type": "code",
   "execution_count": 3,
   "metadata": {},
   "outputs": [
    {
     "name": "stdout",
     "output_type": "stream",
     "text": [
      "Answer\n",
      "True\n"
     ]
    }
   ],
   "source": [
    "if True:\n",
    "    print (\"Answer\")\n",
    "    print(\"True\")\n",
    "else:\n",
    "    print(\"Answer\")\n",
    "    print(\"False\")"
   ]
  },
  {
   "cell_type": "markdown",
   "metadata": {},
   "source": [
    "## Comments"
   ]
  },
  {
   "cell_type": "markdown",
   "metadata": {},
   "source": [
    "1. Single Line: A hash sign (#) that is not inside a string literal begins a comment. All characters after the # and up to the end of the physical line are part of the comment and the Python interpreter ignores them\n",
    "2. Multiple Line: Three single quotes (''' ) are used for multiple line comments. It is also called docstrings. (document string) It gives programmers an easy way of adding quick notes with every Python module, function, class, and method."
   ]
  },
  {
   "cell_type": "markdown",
   "metadata": {},
   "source": [
    "### Naming Conventions\n",
    "Camel -> ageEmp <br/>\n",
    "Snake -> age_emp<br/>\n",
    "Pascal -> AgeEmp<br/>"
   ]
  },
  {
   "cell_type": "markdown",
   "metadata": {},
   "source": [
    "## User Input"
   ]
  },
  {
   "cell_type": "code",
   "execution_count": 4,
   "metadata": {},
   "outputs": [
    {
     "name": "stdout",
     "output_type": "stream",
     "text": [
      "Enter a number - 101\n",
      "The entered number is  101\n"
     ]
    }
   ],
   "source": [
    "num = input(\"Enter a number - \")\n",
    "print(\"The entered number is \",num)"
   ]
  },
  {
   "cell_type": "markdown",
   "metadata": {},
   "source": [
    "## Variables"
   ]
  },
  {
   "cell_type": "markdown",
   "metadata": {},
   "source": [
    "Python variables do not need explicit declaration to reserve memory space. The declaration happens automatically when you assign a value to a variable. Variables don’t require declaration. However, you must initialize them before use."
   ]
  },
  {
   "cell_type": "code",
   "execution_count": 5,
   "metadata": {},
   "outputs": [],
   "source": [
    "number = 10"
   ]
  },
  {
   "cell_type": "markdown",
   "metadata": {},
   "source": [
    "The above expression will lead to the following actions -\n",
    "Creation of an object to represent the value 10.\n",
    "If the variable doesn’t exist, then it’ll get created.\n",
    "Association of the variable with the object, so that it can refer the value."
   ]
  },
  {
   "cell_type": "markdown",
   "metadata": {},
   "source": [
    "Whenever the expression changes, Python associates a new object (a chunk of memory) to the variable for referencing that value. And the old one goes to the garbage collector."
   ]
  },
  {
   "cell_type": "code",
   "execution_count": 6,
   "metadata": {},
   "outputs": [
    {
     "data": {
      "text/plain": [
       "140726659786816"
      ]
     },
     "execution_count": 6,
     "metadata": {},
     "output_type": "execute_result"
    }
   ],
   "source": [
    "id(number)"
   ]
  },
  {
   "cell_type": "code",
   "execution_count": 7,
   "metadata": {},
   "outputs": [
    {
     "data": {
      "text/plain": [
       "140726659786848"
      ]
     },
     "execution_count": 7,
     "metadata": {},
     "output_type": "execute_result"
    }
   ],
   "source": [
    "number = 11\n",
    "id(number)"
   ]
  },
  {
   "cell_type": "code",
   "execution_count": 8,
   "metadata": {},
   "outputs": [
    {
     "data": {
      "text/plain": [
       "int"
      ]
     },
     "execution_count": 8,
     "metadata": {},
     "output_type": "execute_result"
    }
   ],
   "source": [
    "type(number)"
   ]
  },
  {
   "cell_type": "code",
   "execution_count": 9,
   "metadata": {},
   "outputs": [
    {
     "data": {
      "text/plain": [
       "str"
      ]
     },
     "execution_count": 9,
     "metadata": {},
     "output_type": "execute_result"
    }
   ],
   "source": [
    "test = 'ronik'\n",
    "type(test)"
   ]
  },
  {
   "cell_type": "code",
   "execution_count": 10,
   "metadata": {},
   "outputs": [
    {
     "data": {
      "text/plain": [
       "set"
      ]
     },
     "execution_count": 10,
     "metadata": {},
     "output_type": "execute_result"
    }
   ],
   "source": [
    "test = {'abc', 'def', 'ghi'}\n",
    "type(test)"
   ]
  },
  {
   "cell_type": "code",
   "execution_count": 11,
   "metadata": {},
   "outputs": [
    {
     "data": {
      "text/plain": [
       "2012635944048"
      ]
     },
     "execution_count": 11,
     "metadata": {},
     "output_type": "execute_result"
    }
   ],
   "source": [
    "test2 = \"learning\"\n",
    "id(test2)"
   ]
  },
  {
   "cell_type": "code",
   "execution_count": 12,
   "metadata": {},
   "outputs": [
    {
     "data": {
      "text/plain": [
       "2012635944048"
      ]
     },
     "execution_count": 12,
     "metadata": {},
     "output_type": "execute_result"
    }
   ],
   "source": [
    "test3 = test2\n",
    "id(test3)"
   ]
  },
  {
   "cell_type": "markdown",
   "metadata": {},
   "source": [
    "The above statement won’t trigger any new allocation in memory. Both the variables would point to the same memory address. It’s like creating an alias to the existing object. "
   ]
  },
  {
   "cell_type": "code",
   "execution_count": 13,
   "metadata": {},
   "outputs": [
    {
     "name": "stdout",
     "output_type": "stream",
     "text": [
      "100\n",
      "1000.0\n",
      "Ronik\n"
     ]
    }
   ],
   "source": [
    "counter = 100 # integer\n",
    "miles = 1000.0 # float\n",
    "name = \"Ronik\"# string\n",
    "print(counter)\n",
    "print(miles)\n",
    "print(name)"
   ]
  },
  {
   "cell_type": "markdown",
   "metadata": {},
   "source": [
    "We can redeclare the variables even after it is declared once with other data type once."
   ]
  },
  {
   "cell_type": "code",
   "execution_count": 14,
   "metadata": {},
   "outputs": [
    {
     "data": {
      "text/plain": [
       "'Ronik'"
      ]
     },
     "execution_count": 14,
     "metadata": {},
     "output_type": "execute_result"
    }
   ],
   "source": [
    "counter = 'Ronik'\n",
    "counter"
   ]
  },
  {
   "cell_type": "markdown",
   "metadata": {},
   "source": [
    "Multiple assignment of variables"
   ]
  },
  {
   "cell_type": "code",
   "execution_count": 15,
   "metadata": {},
   "outputs": [
    {
     "name": "stdout",
     "output_type": "stream",
     "text": [
      "1\n",
      "2\n",
      "john\n"
     ]
    }
   ],
   "source": [
    "a,b,c = 1,2,\"john\"\n",
    "print(a)\n",
    "print(b)\n",
    "print(c)"
   ]
  },
  {
   "cell_type": "markdown",
   "metadata": {},
   "source": [
    "## Operators"
   ]
  },
  {
   "cell_type": "markdown",
   "metadata": {},
   "source": [
    "#### Arithmetic Operators"
   ]
  },
  {
   "cell_type": "code",
   "execution_count": 16,
   "metadata": {},
   "outputs": [
    {
     "name": "stdout",
     "output_type": "stream",
     "text": [
      "Sum :  13\n",
      "Subtraction :  7\n",
      "Multiplication :  30\n",
      "Division (float) :  3.3333333333333335\n",
      "Division (floor) :  3\n",
      "Modulus :  1\n",
      "Exponent :  1000\n"
     ]
    }
   ],
   "source": [
    "a = 10\n",
    "b = 3\n",
    "print('Sum : ', a+b)\n",
    "print('Subtraction : ', a-b)\n",
    "print('Multiplication : ', a*b)\n",
    "print('Division (float) : ', a/b)   # complete division answer\n",
    "print('Division (floor) : ', a//b)  # only int answer\n",
    "print('Modulus : ', a%b)\n",
    "print('Exponent : ', a**b)"
   ]
  },
  {
   "cell_type": "markdown",
   "metadata": {},
   "source": [
    "#### Relational Operators"
   ]
  },
  {
   "cell_type": "code",
   "execution_count": 17,
   "metadata": {},
   "outputs": [
    {
     "name": "stdout",
     "output_type": "stream",
     "text": [
      "a > b is True\n",
      "a < b is False\n",
      "a == b is False\n",
      "a != b is True\n",
      "a >= b is True\n",
      "a <= b is False\n"
     ]
    }
   ],
   "source": [
    "print('a > b is',a>b)\n",
    "print('a < b is',a<b)\n",
    "print('a == b is',a==b)\n",
    "print('a != b is',a!=b)\n",
    "print('a >= b is',a>=b)\n",
    "print('a <= b is',a<=b)"
   ]
  },
  {
   "cell_type": "markdown",
   "metadata": {},
   "source": [
    "#### Logical Operators"
   ]
  },
  {
   "cell_type": "code",
   "execution_count": 18,
   "metadata": {},
   "outputs": [
    {
     "name": "stdout",
     "output_type": "stream",
     "text": [
      "a and b is False\n",
      "a or b is True\n",
      "not a is False\n",
      "not b is True\n"
     ]
    }
   ],
   "source": [
    "a = True\n",
    "b = False\n",
    "print('a and b is',a and b)\n",
    "print('a or b is',a or b)\n",
    "print('not a is',not a)\n",
    "print('not b is',not b)"
   ]
  },
  {
   "cell_type": "markdown",
   "metadata": {},
   "source": [
    "#### Bitwise Operators"
   ]
  },
  {
   "cell_type": "code",
   "execution_count": 19,
   "metadata": {},
   "outputs": [
    {
     "name": "stdout",
     "output_type": "stream",
     "text": [
      "a & b is 4\n"
     ]
    }
   ],
   "source": [
    "a=4\n",
    "b=6\n",
    "print('a & b is',a & b)"
   ]
  },
  {
   "cell_type": "markdown",
   "metadata": {},
   "source": [
    "0 0 0 0 0 1 0 0 <br/>\n",
    "0 0 0 0 0 1 1 0 <br/>\n",
    "-------------------- <br/>\n",
    " 0 0 0 0 0 1 0 0 <br/>\n",
    "(the binary representation of the number 4)"
   ]
  },
  {
   "cell_type": "markdown",
   "metadata": {},
   "source": [
    "#### Assignment Operators"
   ]
  },
  {
   "cell_type": "code",
   "execution_count": 20,
   "metadata": {},
   "outputs": [
    {
     "name": "stdout",
     "output_type": "stream",
     "text": [
      "4\n",
      "8\n",
      "4\n",
      "16\n",
      "4.0\n",
      "0.0\n",
      "256\n",
      "4\n",
      "256\n",
      "64\n",
      "0\n"
     ]
    }
   ],
   "source": [
    "a = 4\n",
    "print(a)\n",
    "a += 4\n",
    "print(a)\n",
    "a -= 4\n",
    "print(a)\n",
    "a *= 4\n",
    "print(a)\n",
    "a /= 4\n",
    "print(a)\n",
    "a %= 4\n",
    "print(a)\n",
    "\n",
    "a = 4\n",
    "a **= 4\n",
    "print(a)\n",
    "\n",
    "a = 4\n",
    "a &= 4\n",
    "print(a)\n",
    "\n",
    "a = 4\n",
    "a **= 4\n",
    "print(a)\n",
    "\n",
    "a = 4\n",
    "a <<= 4\n",
    "print(a)\n",
    "\n",
    "a = 4\n",
    "a >>= 4\n",
    "print(a)"
   ]
  },
  {
   "cell_type": "markdown",
   "metadata": {},
   "source": [
    "#### Identity Operators"
   ]
  },
  {
   "cell_type": "code",
   "execution_count": 21,
   "metadata": {},
   "outputs": [
    {
     "name": "stdout",
     "output_type": "stream",
     "text": [
      "true\n",
      "true\n"
     ]
    }
   ],
   "source": [
    "a = 7\n",
    "if (type(a) is int):\n",
    "    print(\"true\")\n",
    "else:\n",
    "    print(\"false\")\n",
    "\n",
    "b = 7.5\n",
    "if (type(b) is not int):\n",
    "    print(\"true\")\n",
    "else:\n",
    "    print(\"false\")"
   ]
  },
  {
   "cell_type": "markdown",
   "metadata": {},
   "source": [
    "#### Membership Operators"
   ]
  },
  {
   "cell_type": "code",
   "execution_count": 22,
   "metadata": {},
   "outputs": [
    {
     "name": "stdout",
     "output_type": "stream",
     "text": [
      "True\n",
      "True\n",
      "True\n",
      "False\n"
     ]
    }
   ],
   "source": [
    "str = 'Python operators'\n",
    "dict = {6:'June',12:'Dec'}\n",
    "print('Python' in str)\n",
    "print('python' not in str)\n",
    "print(6 in dict) \n",
    "print('Dec' in dict)"
   ]
  },
  {
   "cell_type": "markdown",
   "metadata": {},
   "source": [
    "##  Data Types"
   ]
  },
  {
   "cell_type": "markdown",
   "metadata": {},
   "source": [
    "1.\tBoolean\n",
    "2.\tNumbers - int, float, complex\n",
    "3.\tStrings\n",
    "4.\tBytes\n",
    "5.\tLists\n",
    "6.\tTuples\n",
    "7.\tSets\n",
    "8.\tDictionaries"
   ]
  },
  {
   "cell_type": "code",
   "execution_count": 23,
   "metadata": {},
   "outputs": [
    {
     "name": "stdout",
     "output_type": "stream",
     "text": [
      "The program will end here.\n"
     ]
    }
   ],
   "source": [
    "condition=False\n",
    "if condition ==True:\n",
    "    print(\"You can continue with the program.\")\n",
    "else:\n",
    "    print(\"The program will end here.\")"
   ]
  },
  {
   "cell_type": "code",
   "execution_count": 24,
   "metadata": {},
   "outputs": [
    {
     "name": "stdout",
     "output_type": "stream",
     "text": [
      "The number ( 2 ) is of type <class 'int'>\n",
      "The number ( 3.0 ) is of type <class 'float'>\n",
      "The number  (3+5j)  is of type <class 'complex'>\n",
      "The number  (3+5j)  is complex number? True\n"
     ]
    }
   ],
   "source": [
    "num=2\n",
    "print(\"The number (\",num,\") is of type\", type(num))\n",
    "num=3.0\n",
    "print(\"The number (\",num,\") is of type\", type(num))\n",
    "num=3+5j\n",
    "print(\"The number \",num,\" is of type\", type(num))\n",
    "print(\"The number \",num,\" is complex number?\",isinstance(num, complex))"
   ]
  },
  {
   "cell_type": "code",
   "execution_count": 25,
   "metadata": {},
   "outputs": [
    {
     "data": {
      "text/plain": [
       "'A string wrapped in single quotes'"
      ]
     },
     "execution_count": 25,
     "metadata": {},
     "output_type": "execute_result"
    }
   ],
   "source": [
    "'A string wrapped in single quotes'"
   ]
  },
  {
   "cell_type": "code",
   "execution_count": 26,
   "metadata": {},
   "outputs": [
    {
     "data": {
      "text/plain": [
       "'A string enclosed within double quotes'"
      ]
     },
     "execution_count": 26,
     "metadata": {},
     "output_type": "execute_result"
    }
   ],
   "source": [
    "\"A string enclosed within double quotes\""
   ]
  },
  {
   "cell_type": "code",
   "execution_count": 27,
   "metadata": {},
   "outputs": [
    {
     "data": {
      "text/plain": [
       "'A multiline string\\nstarts and ends with\\na triple quotation mark.'"
      ]
     },
     "execution_count": 27,
     "metadata": {},
     "output_type": "execute_result"
    }
   ],
   "source": [
    "\"\"\"A multiline string\n",
    "starts and ends with\n",
    "a triple quotation mark.\"\"\""
   ]
  },
  {
   "cell_type": "markdown",
   "metadata": {},
   "source": [
    "Slicing and Indexing in Lists"
   ]
  },
  {
   "cell_type": "code",
   "execution_count": 28,
   "metadata": {},
   "outputs": [
    {
     "name": "stdout",
     "output_type": "stream",
     "text": [
      "Hello World!\n",
      "H\n",
      "llo\n",
      "lo World!\n",
      "Hello World!Hello World!\n",
      "Hello World!TEST\n",
      "World!\n",
      "d!\n",
      "He\n",
      "ld\n",
      "False\n"
     ]
    }
   ],
   "source": [
    "str='Hello World!'\n",
    "print(str)\n",
    "print(str[0])\n",
    "print(str[2:5])\n",
    "print(str[3:])\n",
    "print(str*2)\n",
    "print(str+\"TEST\")\n",
    "print(str[6:])\n",
    "print(str[-2:])\n",
    "print(str[:2])\n",
    "print(str[-3:-1])\n",
    "print('n'in str)"
   ]
  },
  {
   "cell_type": "code",
   "execution_count": 29,
   "metadata": {},
   "outputs": [
    {
     "name": "stdout",
     "output_type": "stream",
     "text": [
      "Techbeamers\n",
      "techbeamers\n",
      "TECHBEAMERS\n",
      "tECHbEAMERS\n",
      "Techbeamers\n",
      "3\n",
      "6\n",
      "8\n",
      "False\n",
      "True\n",
      "****TechBeamers*****\n"
     ]
    }
   ],
   "source": [
    "var='TechBeamers'\n",
    "print(var.capitalize())\n",
    "print(var.lower())\n",
    "print(var.upper())\n",
    "print(var.swapcase())\n",
    "print(var.title())\n",
    "print(var.count('e'))\n",
    "print(var.find('a'))\n",
    "print(var.rfind('e'))\n",
    "print(var.islower())\n",
    "print('python'.isalpha())\n",
    "print(var.center(20,'*'))"
   ]
  },
  {
   "cell_type": "code",
   "execution_count": 30,
   "metadata": {},
   "outputs": [
    {
     "name": "stdout",
     "output_type": "stream",
     "text": [
      "Thwas was a good example\n",
      "22\n",
      "['This', 'is', 'a', 'good', 'example']\n",
      "ab=bc=cd\n",
      "This is a good example*****\n",
      "*****This is a good example\n"
     ]
    }
   ],
   "source": [
    "var='This is a good example'\n",
    "print(var.replace('is','was'))\n",
    "var=\"This is a good example\"\n",
    "print(len(var))\n",
    "print(var.split())\n",
    "seq=('ab','bc','cd')\n",
    "str='='\n",
    "print(str.join(seq))\n",
    "var='*****This is a good example*****'\n",
    "print(var.lstrip('*'))\n",
    "var='*****This is a good example*****'\n",
    "print(var.rstrip('*'))\n"
   ]
  },
  {
   "cell_type": "markdown",
   "metadata": {},
   "source": [
    "### Lists [ ]"
   ]
  },
  {
   "cell_type": "markdown",
   "metadata": {},
   "source": [
    "List is an ordered sequence of objects just like an array in other languages. The object can be anything from a string to a number or the data of any available type. <br/>\n",
    "A list can also be both homogenous as well as heterogeneous. It means we can store only integers or strings or both depending on the need. Next, every element rests at some position (i.e., index) in the list. "
   ]
  },
  {
   "cell_type": "code",
   "execution_count": 31,
   "metadata": {},
   "outputs": [
    {
     "name": "stdout",
     "output_type": "stream",
     "text": [
      "[10, 20, 30] [1, 'Hello', 3.14] [1, 2, [1.1, 2.2]] [0, 1, 2, 3, 4, 5, 6]\n"
     ]
    }
   ],
   "source": [
    "l1 = [10, 20, 30]\n",
    "l2 = [1, \"Hello\", 3.14]\n",
    "l3 = ([1, 2, [1.1, 2.2]])\n",
    "l4 = [i for i in range(7)]\n",
    "print(l1,l2,l3,l4)"
   ]
  },
  {
   "cell_type": "code",
   "execution_count": 32,
   "metadata": {},
   "outputs": [
    {
     "name": "stdout",
     "output_type": "stream",
     "text": [
      "['I', 'A', 'E', 'G', 'B', 'V']\n"
     ]
    }
   ],
   "source": [
    "countries = [\"India\",\"America\",\"England\",\"Germany\",\"Brazil\",\"Vietnam\"]\n",
    "print([i[0] for i in countries ])"
   ]
  },
  {
   "cell_type": "code",
   "execution_count": 33,
   "metadata": {},
   "outputs": [
    {
     "name": "stdout",
     "output_type": "stream",
     "text": [
      "['PYTHON', 'CSHARP', 'GO', 'JAVASCRIPT', 'PHP', 'MYSQL']\n"
     ]
    }
   ],
   "source": [
    "langs = ['python', 'csharp', 'go', 'javascript', 'php', 'mysql']\n",
    "print([i.upper() for i in langs])"
   ]
  },
  {
   "cell_type": "code",
   "execution_count": 34,
   "metadata": {},
   "outputs": [
    {
     "name": "stdout",
     "output_type": "stream",
     "text": [
      "['Apples', 'Oranges', 'Apricots', 'Olives']\n"
     ]
    }
   ],
   "source": [
    "fruits = ['Apples', 'Oranges', 'Guavas', 'Grapes', 'Mangoes', 'Apricots', 'Olives']\n",
    "print([i for i in fruits if i[0].lower() in ['a', 'e', 'i', 'o', 'u']])"
   ]
  },
  {
   "cell_type": "markdown",
   "metadata": {},
   "source": [
    "Note - If you wish to use both the index and the element, then call the enumerate() function."
   ]
  },
  {
   "cell_type": "code",
   "execution_count": 35,
   "metadata": {},
   "outputs": [
    {
     "data": {
      "text/plain": [
       "['jan', 'mar', 'may', 'jul', 'sep', 'nov']"
      ]
     },
     "execution_count": 35,
     "metadata": {},
     "output_type": "execute_result"
    }
   ],
   "source": [
    "months = ['jan', 'feb', 'mar', 'apr', 'may', 'jun', 'jul', 'aug', 'sep', 'oct', 'nov', 'dec']\n",
    "oddMonths = [i for index, i in enumerate(months) if (index%2 == 0)]\n",
    "oddMonths"
   ]
  },
  {
   "cell_type": "code",
   "execution_count": 36,
   "metadata": {},
   "outputs": [
    {
     "name": "stdout",
     "output_type": "stream",
     "text": [
      "['a', 'b', 1, 2, 'Learn', 'Python']\n",
      "['a', 'b', 1, 2]\n",
      "['Learn', 'Python', ['x', 'y']]\n"
     ]
    }
   ],
   "source": [
    "L1 = ['a', 'b']\n",
    "L2 = [1, 2]\n",
    "L3 = ['Learn', 'Python']\n",
    "print(L1 + L2 + L3) # quick fix\n",
    "\n",
    "L1.extend(L2) # permanent solution\n",
    "print(L1)\n",
    "\n",
    "L3.append(['x', 'y'])\n",
    "print(L3)"
   ]
  },
  {
   "cell_type": "markdown",
   "metadata": {},
   "source": [
    "Two Dimensional List -"
   ]
  },
  {
   "cell_type": "code",
   "execution_count": 37,
   "metadata": {},
   "outputs": [
    {
     "name": "stdout",
     "output_type": "stream",
     "text": [
      "[[0, 0, 0], [0, 0, 0], [0, 0, 0]]\n",
      "[[0, 1, 0], [0, 1, 0], [0, 1, 0]]\n"
     ]
    }
   ],
   "source": [
    "two_dim_list = [[0]*3] *3\n",
    "print(two_dim_list)\n",
    "two_dim_list[0][1] = 1\n",
    "print(two_dim_list)"
   ]
  },
  {
   "cell_type": "markdown",
   "metadata": {},
   "source": [
    "Slicing and Indexing -"
   ]
  },
  {
   "cell_type": "code",
   "execution_count": 38,
   "metadata": {},
   "outputs": [
    {
     "name": "stdout",
     "output_type": "stream",
     "text": [
      "[3, 4, 5]\n",
      "[3, 5]\n",
      "[3, 4, 5, 6, 7]\n",
      "[1, 2]\n",
      "[3, 4, 5, 6, 7, 8]\n",
      "[5, 4, 3]\n",
      "[8, 7, 6, 5, 4, 3, 2, 1]\n",
      "[8, 6, 4, 2]\n"
     ]
    }
   ],
   "source": [
    "theList = [1, 2, 3, 4, 5, 6, 7, 8]\n",
    "print(theList[2:5])\n",
    "print(theList[2:5:2])\n",
    "print(theList[2:-1])\n",
    "print(theList[:2])\n",
    "print(theList[2:])\n",
    "print(theList[4:1:-1])\n",
    "print(theList[::-1])\n",
    "print(theList[::-2])"
   ]
  },
  {
   "cell_type": "code",
   "execution_count": 39,
   "metadata": {},
   "outputs": [
    {
     "name": "stdout",
     "output_type": "stream",
     "text": [
      "studied Python\n",
      "studied C\n",
      "studied C++\n",
      "studied Java\n",
      "studied CSharp\n",
      "['Python', 'C', 'C++', 'Java', 'Angular']\n",
      "['Python', 'Ruby', 'TypeScript', 'JavaScript', 'Angular']\n"
     ]
    }
   ],
   "source": [
    "lang = ['Python', 'C', 'C++', 'Java', 'CSharp']\n",
    "for i in lang:\n",
    "    print(\"studied\", i)\n",
    "    \n",
    "lang[4] = 'Angular'\n",
    "print(lang)\n",
    "lang[1:4] = ['Ruby', 'TypeScript', 'JavaScript'] \n",
    "print(lang)"
   ]
  },
  {
   "cell_type": "code",
   "execution_count": 40,
   "metadata": {},
   "outputs": [
    {
     "name": "stdout",
     "output_type": "stream",
     "text": [
      "['a', 'e', 'o', 'u']\n",
      "['a', 'u']\n",
      "u\n",
      "['a', 'e', 'i', 'o']\n",
      "['e', 'i', 'o']\n",
      "[]\n",
      "['u', 'o', 'i', 'e', 'a']\n",
      "['a', 'e', 'i', 'o', 'u']\n"
     ]
    }
   ],
   "source": [
    "vowels = ['a','e','i','o','u']\n",
    "del vowels[2]\n",
    "print(vowels)\n",
    "del vowels[1:3]\n",
    "print(vowels)\n",
    "\n",
    "vowels = ['a','e','i','o','u']\n",
    "print(vowels.pop())\n",
    "print(vowels)\n",
    "vowels.remove('a')\n",
    "print(vowels)\n",
    "vowels.clear()\n",
    "print(vowels)\n",
    "\n",
    "vowels = ['i','a','e','u','o']\n",
    "vowels.sort(reverse=True)\n",
    "print(vowels)\n",
    "vowels.sort()\n",
    "print(vowels)"
   ]
  },
  {
   "cell_type": "markdown",
   "metadata": {},
   "source": [
    "### Tuples ( )"
   ]
  },
  {
   "cell_type": "markdown",
   "metadata": {},
   "source": [
    "Tuple is a collection type data structure which is immutable by design and holds a sequence of heterogeneous elements. <br/>\n",
    "Tuples store a fixed set of elements and don’t allow changes whereas the list has the provision to update its content."
   ]
  },
  {
   "cell_type": "code",
   "execution_count": 41,
   "metadata": {},
   "outputs": [
    {
     "name": "stdout",
     "output_type": "stream",
     "text": [
      "(33, 3.3, (3+3j))\n",
      "(33, '33', [3, 3])\n"
     ]
    }
   ],
   "source": [
    "test = (33, 3.3, 3+3j)\n",
    "print(test)\n",
    "test = (33, \"33\", [3, 3])\n",
    "print(test)"
   ]
  },
  {
   "cell_type": "code",
   "execution_count": 42,
   "metadata": {},
   "outputs": [
    {
     "name": "stdout",
     "output_type": "stream",
     "text": [
      "5\n",
      "a\n",
      "u\n",
      "mar\n",
      "sun\n",
      "Item: p\n",
      "Item: y\n",
      "Item: t\n",
      "Item: h\n",
      "Item: o\n",
      "Item: n\n"
     ]
    }
   ],
   "source": [
    "vowel = ('a','e','i','o','u')\n",
    "print(len(vowel))\n",
    "print(vowel[0])\n",
    "print(vowels[-1])\n",
    "\n",
    "t_o_t = (('jan', 'feb', 'mar'), ('sun', 'mon', 'wed'))\n",
    "print(t_o_t[0][2])\n",
    "print(t_o_t[1][0])\n",
    "\n",
    "py = ('p', 'y', 't', 'h', 'o', 'n')\n",
    "for i in py:\n",
    "    print(\"Item:\", i)"
   ]
  },
  {
   "cell_type": "markdown",
   "metadata": {},
   "source": [
    "### Dictionary { : }"
   ]
  },
  {
   "cell_type": "markdown",
   "metadata": {},
   "source": [
    "Dictionary is a scrambled collection of objects. It stores a key along with its value. The keys pair with values using a colon (:) while the commas work as a separator for the elements. Also, the entire dictionary object uses curly braces to enclose itself."
   ]
  },
  {
   "cell_type": "code",
   "execution_count": 43,
   "metadata": {},
   "outputs": [
    {
     "name": "stdout",
     "output_type": "stream",
     "text": [
      "Berry\n",
      "12\n",
      "English\n"
     ]
    }
   ],
   "source": [
    "dict = {'Student Name': 'Berry', 'Roll No.': 12, 'Subject': 'English'}\n",
    "print(dict['Student Name'])\n",
    "print(dict['Roll No.'])\n",
    "print(dict['Subject'])"
   ]
  },
  {
   "cell_type": "code",
   "execution_count": 44,
   "metadata": {},
   "outputs": [
    {
     "name": "stdout",
     "output_type": "stream",
     "text": [
      "{'1': 'Python', '2': 'Java'}\n",
      "{'1': 'Python', '2': 'Java', '3': 'CSharp'}\n",
      "{'1': 'Python', '2': 'Java', '3': 'CSharp', '4': 'JavaScript'}\n",
      "Python\n",
      "{'2'} : {'Java'}\n",
      "{'3'} : {'CSharp'}\n",
      "{'4'} : {'JavaScript'}\n",
      "True\n",
      "False\n"
     ]
    }
   ],
   "source": [
    "dict = {\"1\" : \"Python\", \"2\" : \"Java\"}\n",
    "print(dict)\n",
    "dict[\"3\"] = \"CSharp\"\n",
    "print(dict)\n",
    "dict.update({\"4\" : \"JavaScript\"})\n",
    "print(dict)\n",
    "print(dict.pop(\"1\")) \n",
    "\n",
    "for key, value in dict.items():\n",
    "    print({key},\":\",{value})\n",
    "    \n",
    "weekdays = {'fri': 5, 'tue': 2, 'wed': 3, 'sat': 6, 'thu': 4, 'mon': 1, 'sun': 0}\n",
    "print('fri' in weekdays)\n",
    "print('thu' not in weekdays)"
   ]
  },
  {
   "cell_type": "markdown",
   "metadata": {},
   "source": [
    "### Set { }"
   ]
  },
  {
   "cell_type": "markdown",
   "metadata": {},
   "source": [
    "Set is a collection type object which can store elements of different data types. It doesn’t index the values in a particular order.The elements don’t have a specific order, and their positions can be inconsistent. Each item is unique in a Set and, therefore, can’t have duplicates. <br/>\n",
    "The elements are immutable and hence, can’t accept changes once added. A set is itself mutable and allows the addition or deletion of items."
   ]
  },
  {
   "cell_type": "code",
   "execution_count": 45,
   "metadata": {},
   "outputs": [
    {
     "name": "stdout",
     "output_type": "stream",
     "text": [
      "{11, 3, 15, 7}\n",
      "{1.1, (1, 2), 11, '11'}\n",
      "{66, 99, 3, 7, 11, 44, 15, 55}\n",
      "{3, 7, 11, 44, 15, 55}\n"
     ]
    }
   ],
   "source": [
    "set_num = {3, 7, 11, 15}\n",
    "print(set_num)\n",
    "py_set_mix = {11, 1.1, \"11\", (1, 2)}\n",
    "print(py_set_mix)\n",
    "\n",
    "set_num.add(99)\n",
    "set_num.update([44, 55, 66])\n",
    "print(set_num)\n",
    "set_num.discard(99)\n",
    "set_num.remove(66)\n",
    "print(set_num)"
   ]
  },
  {
   "cell_type": "markdown",
   "metadata": {},
   "source": [
    "#### Set Operations"
   ]
  },
  {
   "cell_type": "code",
   "execution_count": 46,
   "metadata": {},
   "outputs": [
    {
     "name": "stdout",
     "output_type": "stream",
     "text": [
      "7\n",
      "7\n",
      "{'u', 'a', 'i', 'o', 'e', 'z', 'h', 't', 'g', 'b'} 10\n",
      "{'u', 'a', 'o', 'e'} 4\n"
     ]
    }
   ],
   "source": [
    "setA = {'a', 'e', 'i', 'o', 'u', 'g', 'h'}\n",
    "setB = {'a', 'e', 'z', 'b', 't', 'o', 'u'}\n",
    "print(len(setA))\n",
    "print(len(setB))\n",
    "print(setA.union(setB), len(setA.union(setB)))\n",
    "print(setA & setB, len(setA & setB))"
   ]
  },
  {
   "cell_type": "code",
   "execution_count": 47,
   "metadata": {},
   "outputs": [
    {
     "name": "stdout",
     "output_type": "stream",
     "text": [
      "apple in basket? True\n",
      "watermelon in basket? False\n"
     ]
    }
   ],
   "source": [
    "basket = set([\"apple\", \"mango\", \"banana\", \"grapes\", \"orange\"])\n",
    "print(\"apple in basket?\", 'apple' in basket)\n",
    "print(\"watermelon in basket?\", 'watermelon' in basket)"
   ]
  },
  {
   "cell_type": "markdown",
   "metadata": {},
   "source": [
    "### Time"
   ]
  },
  {
   "cell_type": "code",
   "execution_count": 48,
   "metadata": {},
   "outputs": [
    {
     "name": "stdout",
     "output_type": "stream",
     "text": [
      "Local current time : Fri Feb 18 18:41:46 2022\n"
     ]
    }
   ],
   "source": [
    "import time;\n",
    "localtime=time.asctime(time.localtime(time.time()))\n",
    "print(\"Local current time :\",localtime)"
   ]
  },
  {
   "cell_type": "code",
   "execution_count": 49,
   "metadata": {},
   "outputs": [
    {
     "name": "stdout",
     "output_type": "stream",
     "text": [
      "   February 2022\n",
      "Mo Tu We Th Fr Sa Su\n",
      "    1  2  3  4  5  6\n",
      " 7  8  9 10 11 12 13\n",
      "14 15 16 17 18 19 20\n",
      "21 22 23 24 25 26 27\n",
      "28\n",
      "\n"
     ]
    }
   ],
   "source": [
    "import calendar\n",
    "cal=calendar.month(2022,2)\n",
    "print(cal)"
   ]
  },
  {
   "cell_type": "markdown",
   "metadata": {},
   "source": [
    "### <div style=\"text-align: right\"> Developed & Curated by Mr. Ronik Dedhia</div>"
   ]
  }
 ],
 "metadata": {
  "kernelspec": {
   "display_name": "Python 3",
   "language": "python",
   "name": "python3"
  },
  "language_info": {
   "codemirror_mode": {
    "name": "ipython",
    "version": 3
   },
   "file_extension": ".py",
   "mimetype": "text/x-python",
   "name": "python",
   "nbconvert_exporter": "python",
   "pygments_lexer": "ipython3",
   "version": "3.8.5"
  }
 },
 "nbformat": 4,
 "nbformat_minor": 4
}

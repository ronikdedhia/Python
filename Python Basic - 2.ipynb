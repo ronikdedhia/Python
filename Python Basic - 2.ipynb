{
 "cells": [
  {
   "cell_type": "markdown",
   "metadata": {},
   "source": [
    "# Python Basics - 1"
   ]
  },
  {
   "cell_type": "markdown",
   "metadata": {},
   "source": [
    "### Decision Making"
   ]
  },
  {
   "cell_type": "code",
   "execution_count": 1,
   "metadata": {},
   "outputs": [
    {
     "name": "stdout",
     "output_type": "stream",
     "text": [
      "Is Python an interpreted language? Yes or No >> YES\n",
      "You have cleared the test.\n",
      "Thanks!\n"
     ]
    }
   ],
   "source": [
    "answer = input(\"Is Python an interpreted language? Yes or No >> \")\n",
    "if answer.lower() == \"yes\" :\n",
    "    print(\"You have cleared the test.\")\n",
    "else :\n",
    "    print(\"You have failed the test.\")\n",
    "print(\"Thanks!\")"
   ]
  },
  {
   "cell_type": "markdown",
   "metadata": {},
   "source": [
    "Python \"in\" operator allows comparing a variable against multiple values in a single line. It makes decision making more comfortable by reducing the use of many if-elif statements.\n",
    "In Python, we often refer to it as the membership operator. It can let you check value from objects of different types. They could be a list, tuple, string, dictionary types."
   ]
  },
  {
   "cell_type": "markdown",
   "metadata": {},
   "source": [
    "### Loops"
   ]
  },
  {
   "cell_type": "code",
   "execution_count": 2,
   "metadata": {},
   "outputs": [
    {
     "name": "stdout",
     "output_type": "stream",
     "text": [
      "char: A\n",
      "char: E\n",
      "char: I\n",
      "char: O\n",
      "char: U\n"
     ]
    }
   ],
   "source": [
    "vowels=\"AEIOU\"\n",
    "for i in vowels:\n",
    "    print(\"char:\", i)"
   ]
  },
  {
   "cell_type": "code",
   "execution_count": 3,
   "metadata": {},
   "outputs": [
    {
     "name": "stdout",
     "output_type": "stream",
     "text": [
      "Sum = 21\n",
      "Avg = 3.5\n"
     ]
    }
   ],
   "source": [
    "int_list = [1, 2, 3, 4, 5, 6]\n",
    "sum = 0\n",
    "for i in int_list:\n",
    "    sum += i\n",
    "print(\"Sum =\", sum)\n",
    "print(\"Avg =\", sum/len(int_list))"
   ]
  },
  {
   "cell_type": "code",
   "execution_count": 4,
   "metadata": {},
   "outputs": [
    {
     "name": "stdout",
     "output_type": "stream",
     "text": [
      "Book: C\n",
      "Book: C++\n",
      "Book: Java\n",
      "Book: Python\n"
     ]
    }
   ],
   "source": [
    "books = ['C', 'C++', 'Java', 'Python']\n",
    "for index in range(len(books)):\n",
    "    print('Book:', books[index])"
   ]
  },
  {
   "cell_type": "markdown",
   "metadata": {},
   "source": [
    "The pass keyword as name suggests, does nothing. It is used as a dummy place holder whenever a syntactical requirement of a certain programming element is to be fulfilled without assigning any operation. In other words, the pass statement is simply ignored by the Python interpreter and can be seen as a null statement. It is generally used as a dummy statement in a code block, for example in the if or else block."
   ]
  },
  {
   "cell_type": "markdown",
   "metadata": {},
   "source": [
    "continue forces the loop to start at the next iteration while pass means \"there is no code to execute here\" and will continue through the remainder or the loop body. ... if pass is at the end for the loop, the difference is negligible as the flow would just back to the top of the loop anyway."
   ]
  },
  {
   "cell_type": "code",
   "execution_count": 5,
   "metadata": {},
   "outputs": [
    {
     "name": "stdout",
     "output_type": "stream",
     "text": [
      "Num:  1\n",
      "Num:  2\n",
      "Num:  4\n",
      "Num:  5\n"
     ]
    }
   ],
   "source": [
    "for num in range(1,6):        \n",
    "    if num==3:\n",
    "        pass\n",
    "    else:\n",
    "        print (\"Num: \",num)"
   ]
  },
  {
   "cell_type": "code",
   "execution_count": 6,
   "metadata": {},
   "outputs": [
    {
     "name": "stdout",
     "output_type": "stream",
     "text": [
      "Which Python data type is an ordered sequence? dictionary\n",
      "You entered: dictionary\n",
      "Your input is wrong. Please try again.\n",
      "Which Python data type is an ordered sequence? list\n",
      "You entered: list\n",
      "You have cleared the test.\n"
     ]
    }
   ],
   "source": [
    "while True:\n",
    "    response = input(\"Which Python data type is an ordered sequence? \").lower()\n",
    "    print(\"You entered:\", response)\n",
    "    \n",
    "    if response == \"list\" or response == \"tuple\":\n",
    "        print(\"You have cleared the test.\")\n",
    "        break\n",
    "    else :\n",
    "        print(\"Your input is wrong. Please try again.\")"
   ]
  },
  {
   "cell_type": "code",
   "execution_count": 7,
   "metadata": {},
   "outputs": [
    {
     "name": "stdout",
     "output_type": "stream",
     "text": [
      "Allowed Item: 1\n",
      "Allowed Item: 10\n",
      "Allowed Item: 20\n",
      "Allowed Item: 30\n"
     ]
    }
   ],
   "source": [
    "num_list = [1, 10, 2, 20, 3, 30]\n",
    "for num in num_list:\n",
    "    if not num in (2, 3):\n",
    "        print (\"Allowed Item:\", num)"
   ]
  },
  {
   "cell_type": "code",
   "execution_count": 8,
   "metadata": {},
   "outputs": [
    {
     "name": "stdout",
     "output_type": "stream",
     "text": [
      "Nick also plays for team2.\n",
      "Alex also plays for team2.\n"
     ]
    }
   ],
   "source": [
    "# Find players who play both games\n",
    "team1 =[\"Jake\", \"Allan\", \"Nick\", \"Alex\", \"Dave\"]\n",
    "team2 =[\"David\", \"John\", \"Chris\", \"Alex\", \"Nick\"]\n",
    "for aplayer in team1:\n",
    "    if aplayer in team2:\n",
    "        print(\"%s also plays for team2.\" %(aplayer))"
   ]
  },
  {
   "cell_type": "markdown",
   "metadata": {},
   "source": [
    "### Functions"
   ]
  },
  {
   "cell_type": "markdown",
   "metadata": {},
   "source": [
    "The \"def\" keyword is a statement for defining a function. You start a function with the def keyword, specify a name followed by a colon (:) sign. The “def” call creates the function object and assigns it to the name given."
   ]
  },
  {
   "cell_type": "code",
   "execution_count": 9,
   "metadata": {},
   "outputs": [
    {
     "name": "stdout",
     "output_type": "stream",
     "text": [
      "You entered an even number.\n",
      "You entered an odd number.\n"
     ]
    }
   ],
   "source": [
    "def typeOfNum(num):\n",
    "    if num % 2 == 0:\n",
    "        def message():\n",
    "            print(\"You entered an even number.\")\n",
    "    else:\n",
    "        def message():\n",
    "            print(\"You entered an odd number.\")\n",
    "    message()\n",
    "typeOfNum(2) \n",
    "typeOfNum(3)"
   ]
  },
  {
   "cell_type": "markdown",
   "metadata": {},
   "source": [
    "### Polymorphism"
   ]
  },
  {
   "cell_type": "code",
   "execution_count": 10,
   "metadata": {},
   "outputs": [
    {
     "name": "stdout",
     "output_type": "stream",
     "text": [
      "36\n",
      "Python!Python!\n"
     ]
    }
   ],
   "source": [
    "def product(x, y): \n",
    "    return x * y\n",
    "print(product(4, 9))\n",
    "print(product('Python!', 2)) "
   ]
  },
  {
   "cell_type": "markdown",
   "metadata": {},
   "source": [
    "The behavior of a function may vary depending upon the arguments passed to it. The same function can accept arguments of different object types. If the objects find a matching interface, the function can process them. In Python, you don’t have to mention the specific data types while coding."
   ]
  },
  {
   "cell_type": "code",
   "execution_count": 11,
   "metadata": {},
   "outputs": [
    {
     "name": "stdout",
     "output_type": "stream",
     "text": [
      "365 days\n",
      "366 days\n"
     ]
    }
   ],
   "source": [
    "def daysInYear(is_leap_year=False):\n",
    "    if not is_leap_year:\n",
    "        print(\"365 days\")\n",
    "    else:\n",
    "        print(\"366 days\")\n",
    "    return\n",
    "\n",
    "daysInYear()\n",
    "daysInYear(True)"
   ]
  },
  {
   "cell_type": "markdown",
   "metadata": {},
   "source": [
    "### Variable Arguments"
   ]
  },
  {
   "cell_type": "markdown",
   "metadata": {},
   "source": [
    "To define a function with variable arguments, you need to prefix the parameter with an asterisk (*) sign."
   ]
  },
  {
   "cell_type": "code",
   "execution_count": 12,
   "metadata": {},
   "outputs": [
    {
     "name": "stdout",
     "output_type": "stream",
     "text": [
      "Electronics [items=5]: ('tv', 'lcd', 'ac', 'refrigerator', 'heater')\n",
      "- tv\n",
      "- lcd\n",
      "- ac\n",
      "- refrigerator\n",
      "- heater\n",
      "Books [items=4]: ('python', 'java', 'c', 'c++')\n",
      "- python\n",
      "- java\n",
      "- c\n",
      "- c++\n"
     ]
    }
   ],
   "source": [
    "def inventory(category, *items):\n",
    "    print(\"%s [items=%d]:\" % (category, len(items)), items)\n",
    "    for item in items:\n",
    "        print(\"-\", item)\n",
    "    return\n",
    "inventory('Electronics', 'tv', 'lcd', 'ac', 'refrigerator', 'heater')\n",
    "inventory('Books', 'python', 'java', 'c', 'c++')"
   ]
  },
  {
   "cell_type": "markdown",
   "metadata": {},
   "source": [
    "### Return Values From A Python Function"
   ]
  },
  {
   "cell_type": "code",
   "execution_count": 13,
   "metadata": {},
   "outputs": [
    {
     "name": "stdout",
     "output_type": "stream",
     "text": [
      "before return => 4 [2, 4, 6, 8]\n",
      "after return  => Windows OS X\n"
     ]
    }
   ],
   "source": [
    "def returnDemo(val1, val2) :\n",
    "    val1 = 'Windows'\n",
    "    val2 = 'OS X'\n",
    "    return val1, val2\n",
    "\n",
    "var1 = 4\n",
    "var2 = [2, 4, 6, 8]\n",
    "\n",
    "print(\"before return =>\", var1, var2)\n",
    "var1, var2 = returnDemo(var1, var2)\n",
    "print(\"after return  =>\", var1, var2)"
   ]
  },
  {
   "cell_type": "code",
   "execution_count": 14,
   "metadata": {},
   "outputs": [
    {
     "name": "stdout",
     "output_type": "stream",
     "text": [
      "-89\n"
     ]
    }
   ],
   "source": [
    "def getMin(*varArgs) :\n",
    "    min = varArgs[0]\n",
    "    for i in varArgs[1:] :\n",
    "        if i < min :\n",
    "            min = i\n",
    "    return min\n",
    "\n",
    "min = getMin(21, -11, 17, -23, 6, 5, -89, 4, 9)\n",
    "print(min)"
   ]
  },
  {
   "cell_type": "markdown",
   "metadata": {},
   "source": [
    "### Recursive Functions"
   ]
  },
  {
   "cell_type": "code",
   "execution_count": 15,
   "metadata": {},
   "outputs": [
    {
     "name": "stdout",
     "output_type": "stream",
     "text": [
      "24\n"
     ]
    }
   ],
   "source": [
    "def calcFact(num) :\n",
    "    if(num != 1) :\n",
    "        return num * calcFact(num-1)\n",
    "    else :\n",
    "        return 1\n",
    "\n",
    "print(calcFact(4))"
   ]
  },
  {
   "cell_type": "markdown",
   "metadata": {},
   "source": [
    "## Classes & Objects"
   ]
  },
  {
   "cell_type": "markdown",
   "metadata": {},
   "source": [
    "\"self\" keyword to represent the instance of a class. It works as a handle for accessing the class members such as attributes from the class methods."
   ]
  },
  {
   "cell_type": "markdown",
   "metadata": {},
   "source": [
    "Constructor - The \"__init__()\" is a unique method which python calls automatically for every object created from the class. Its purpose is to initialize the class attributes with user-supplied values."
   ]
  },
  {
   "cell_type": "code",
   "execution_count": 16,
   "metadata": {},
   "outputs": [
    {
     "name": "stdout",
     "output_type": "stream",
     "text": [
      "__init__() constructor gets called...\n"
     ]
    }
   ],
   "source": [
    "class BookStore:\n",
    "    def __init__(self):\n",
    "        print(\"__init__() constructor gets called...\")\n",
    "B1 = BookStore()"
   ]
  },
  {
   "cell_type": "code",
   "execution_count": 17,
   "metadata": {},
   "outputs": [
    {
     "name": "stdout",
     "output_type": "stream",
     "text": [
      "Book title: Great Expectations\n",
      "Book author: Charles Dickens\n",
      "Book title: War and Peace\n",
      "Book author: Leo Tolstoy\n",
      "Book title: Middlemarch\n",
      "Book author: George Eliot\n",
      "BookStore.noOfBooks: 3\n"
     ]
    }
   ],
   "source": [
    "class BookStore:\n",
    "    noOfBooks = 0\n",
    "    \n",
    "    def __init__(self, title, author):\n",
    "        self.title = title\n",
    "        self.author = author\n",
    "        BookStore.noOfBooks += 1\n",
    "\n",
    "    def bookInfo(self):\n",
    "        print(\"Book title:\", self.title)\n",
    "        print(\"Book author:\", self.author)\n",
    "\n",
    "b1 = BookStore(\"Great Expectations\", \"Charles Dickens\")\n",
    "b2 = BookStore(\"War and Peace\", \"Leo Tolstoy\")\n",
    "b3 = BookStore(\"Middlemarch\", \"George Eliot\")\n",
    "b1.bookInfo()\n",
    "b2.bookInfo()\n",
    "b3.bookInfo()\n",
    "print(\"BookStore.noOfBooks:\", BookStore.noOfBooks)"
   ]
  },
  {
   "cell_type": "markdown",
   "metadata": {},
   "source": [
    "### Inheritance"
   ]
  },
  {
   "cell_type": "code",
   "execution_count": 18,
   "metadata": {},
   "outputs": [
    {
     "name": "stdout",
     "output_type": "stream",
     "text": [
      "Jim is 12 years old\n",
      "Jim runs slowly\n"
     ]
    }
   ],
   "source": [
    "class Dog:\n",
    "    species = 'mammal'\n",
    "    \n",
    "    def __init__(self, name, age):\n",
    "        self.name = name\n",
    "        self.age = age\n",
    "        \n",
    "    def description(self):\n",
    "        return \"{} is {} years old\".format(self.name, self.age)\n",
    "    \n",
    "    def speak(self, sound):\n",
    "        return \"{} says {}\".format(self.name, sound)\n",
    "    \n",
    "\n",
    "class RussellTerrier(Dog):\n",
    "    def run(self, speed):\n",
    "        return \"{} runs {}\".format(self.name, speed)\n",
    "\n",
    "class Bulldog(Dog):\n",
    "    def run(self, speed):\n",
    "        return \"{} runs {}\".format(self.name, speed)\n",
    "\n",
    "jim = Bulldog(\"Jim\", 12)\n",
    "print(jim.description())\n",
    "print(jim.run(\"slowly\"))"
   ]
  },
  {
   "cell_type": "markdown",
   "metadata": {},
   "source": [
    "### Method Overriding"
   ]
  },
  {
   "cell_type": "code",
   "execution_count": 19,
   "metadata": {},
   "outputs": [
    {
     "name": "stdout",
     "output_type": "stream",
     "text": [
      "Calling child method\n"
     ]
    }
   ],
   "source": [
    "class Parent:\n",
    "    def myMethod(self):\n",
    "        print('Calling parent method')\n",
    "\n",
    "class Child(Parent):\n",
    "    def myMethod(self):\n",
    "        print('Calling child method')\n",
    "\n",
    "c = Child()\n",
    "c.myMethod()"
   ]
  },
  {
   "cell_type": "markdown",
   "metadata": {},
   "source": [
    "### Super( ) Method"
   ]
  },
  {
   "cell_type": "markdown",
   "metadata": {},
   "source": [
    "We can invoke the parent class member methods from child class using super() "
   ]
  },
  {
   "cell_type": "code",
   "execution_count": 20,
   "metadata": {},
   "outputs": [
    {
     "name": "stdout",
     "output_type": "stream",
     "text": [
      "From str method of Test: a is 1234 b is 5678\n",
      "[Test a:1234 b:5678]\n"
     ]
    }
   ],
   "source": [
    "class Test: \n",
    "    def __init__(self, a, b): \n",
    "        self.a = a \n",
    "        self.b = b \n",
    "  \n",
    "    def __repr__(self): \n",
    "        return \"Test a:%s b:%s\" % (self.a, self.b) \n",
    "  \n",
    "    def __str__(self): \n",
    "        return \"From str method of Test: a is %s b is %s\" % (self.a, self.b) \n",
    "         \n",
    "t = Test(1234, 5678) \n",
    "print(t) # This calls __str__() \n",
    "print([t]) "
   ]
  },
  {
   "cell_type": "markdown",
   "metadata": {},
   "source": [
    "## File Management"
   ]
  },
  {
   "cell_type": "markdown",
   "metadata": {},
   "source": [
    "We perform the following operation on a particular file. <br/>\n",
    "1.Open a file that returns a filehandle.<br/>\n",
    "2.Use the handle to perform read or write operation.<br/>\n",
    "3.Close the filehandle.<br/>"
   ]
  },
  {
   "cell_type": "code",
   "execution_count": 21,
   "metadata": {},
   "outputs": [
    {
     "name": "stdout",
     "output_type": "stream",
     "text": [
      "File name:  app.log\n",
      "File state:  False\n",
      "Opening mode:  wb\n"
     ]
    }
   ],
   "source": [
    "fob = open(\"app.log\", \"wb\")\n",
    "print(\"File name: \", fob.name)\n",
    "print(\"File state: \", fob.closed)\n",
    "print(\"Opening mode: \", fob.mode)\n",
    "fob.close()"
   ]
  },
  {
   "cell_type": "markdown",
   "metadata": {},
   "source": [
    "### Exception Handling"
   ]
  },
  {
   "cell_type": "code",
   "execution_count": 22,
   "metadata": {},
   "outputs": [
    {
     "name": "stdout",
     "output_type": "stream",
     "text": [
      "Write operation is performed successfully on the file\n"
     ]
    }
   ],
   "source": [
    "try:\n",
    "    fob = open(\"test\", \"w\")\n",
    "    fob.write(\"This is my test file for exception handling!!\")\n",
    "except IOError:\n",
    "    print(\"Error: can\\'t find the file or read data\")\n",
    "else:\n",
    "    print(\"Write operation is performed successfully on the file\")\n",
    "    fob.close()"
   ]
  },
  {
   "cell_type": "code",
   "execution_count": 23,
   "metadata": {},
   "outputs": [
    {
     "name": "stdout",
     "output_type": "stream",
     "text": [
      "Error: [Errno 2] No such file or directory: 'no-file'\n",
      "Code: 2\n"
     ]
    }
   ],
   "source": [
    "try:\n",
    "    f = open(\"no-file\")\n",
    "except IOError as err:\n",
    "    print(\"Error:\", err)\n",
    "    print(\"Code:\", err.errno)"
   ]
  },
  {
   "cell_type": "code",
   "execution_count": 24,
   "metadata": {},
   "outputs": [
    {
     "name": "stdout",
     "output_type": "stream",
     "text": [
      "finally block executed to close the file\n",
      "Error: can't find file or read data\n"
     ]
    }
   ],
   "source": [
    "try:\n",
    "    fob = open('test', 'r')\n",
    "    try:\n",
    "        fob.write(\"It's my test file to verify try-finally in exception handling!!\")\n",
    "        print('try block executed')\n",
    "    finally:\n",
    "        fob.close()\n",
    "        print('finally block executed to close the file')\n",
    "except IOError:\n",
    "    print(\"Error: can\\'t find file or read data\")"
   ]
  },
  {
   "cell_type": "markdown",
   "metadata": {},
   "source": [
    "### Math"
   ]
  },
  {
   "cell_type": "code",
   "execution_count": 25,
   "metadata": {},
   "outputs": [
    {
     "name": "stdout",
     "output_type": "stream",
     "text": [
      "25.0\n",
      "3628800\n",
      "3.141592653589793\n",
      "6\n"
     ]
    }
   ],
   "source": [
    "import math, random\n",
    "print (math.sqrt(625))\n",
    "print (math.factorial(10))\n",
    "print (math.pi)\n",
    "print (random.randint(1,20))"
   ]
  },
  {
   "cell_type": "code",
   "execution_count": 26,
   "metadata": {},
   "outputs": [
    {
     "name": "stdout",
     "output_type": "stream",
     "text": [
      "['__doc__', '__loader__', '__name__', '__package__', '__spec__', 'acos', 'acosh', 'asin', 'asinh', 'atan', 'atan2', 'atanh', 'ceil', 'comb', 'copysign', 'cos', 'cosh', 'degrees', 'dist', 'e', 'erf', 'erfc', 'exp', 'expm1', 'fabs', 'factorial', 'floor', 'fmod', 'frexp', 'fsum', 'gamma', 'gcd', 'hypot', 'inf', 'isclose', 'isfinite', 'isinf', 'isnan', 'isqrt', 'ldexp', 'lgamma', 'log', 'log10', 'log1p', 'log2', 'modf', 'nan', 'perm', 'pi', 'pow', 'prod', 'radians', 'remainder', 'sin', 'sinh', 'sqrt', 'tan', 'tanh', 'tau', 'trunc']\n"
     ]
    }
   ],
   "source": [
    "print (dir(math))"
   ]
  },
  {
   "cell_type": "markdown",
   "metadata": {},
   "source": [
    "### Lambda & Anonymous Function"
   ]
  },
  {
   "cell_type": "markdown",
   "metadata": {},
   "source": [
    "Lambda expressions in Python and other programming languages have their roots in lambda calculus. lambda x: x <br/>\n",
    "•\tA bound variable: x <br/>\n",
    "•\tA body: x"
   ]
  },
  {
   "cell_type": "markdown",
   "metadata": {},
   "source": [
    "Anonymous function is a function without a name created with the lambda keyword. Consider a two-argument anonymous function defined with lambda but not bound to a variable. The lambda is not given a name."
   ]
  },
  {
   "cell_type": "code",
   "execution_count": 27,
   "metadata": {},
   "outputs": [
    {
     "data": {
      "text/plain": [
       "3"
      ]
     },
     "execution_count": 27,
     "metadata": {},
     "output_type": "execute_result"
    }
   ],
   "source": [
    "add_one = lambda x: x + 1\n",
    "add_one(2)"
   ]
  },
  {
   "cell_type": "markdown",
   "metadata": {},
   "source": [
    "### <div style=\"text-align: right\"> Developed & Curated by Mr. Ronik Dedhia</div>"
   ]
  }
 ],
 "metadata": {
  "kernelspec": {
   "display_name": "Python 3",
   "language": "python",
   "name": "python3"
  },
  "language_info": {
   "codemirror_mode": {
    "name": "ipython",
    "version": 3
   },
   "file_extension": ".py",
   "mimetype": "text/x-python",
   "name": "python",
   "nbconvert_exporter": "python",
   "pygments_lexer": "ipython3",
   "version": "3.8.5"
  }
 },
 "nbformat": 4,
 "nbformat_minor": 4
}
